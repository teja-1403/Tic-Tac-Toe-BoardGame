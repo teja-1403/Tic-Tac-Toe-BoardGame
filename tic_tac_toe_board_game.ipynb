{
  "nbformat": 4,
  "nbformat_minor": 0,
  "metadata": {
    "colab": {
      "provenance": [],
      "authorship_tag": "ABX9TyOMhIJM68TNgkc6RPhp1UZe",
      "include_colab_link": true
    },
    "kernelspec": {
      "name": "python3",
      "display_name": "Python 3"
    },
    "language_info": {
      "name": "python"
    }
  },
  "cells": [
    {
      "cell_type": "markdown",
      "metadata": {
        "id": "view-in-github",
        "colab_type": "text"
      },
      "source": [
        "<a href=\"https://colab.research.google.com/github/teja-1403/Tic-Tac-Toe-BoardGame/blob/main/tic_tac_toe_board_game.ipynb\" target=\"_parent\"><img src=\"https://colab.research.google.com/assets/colab-badge.svg\" alt=\"Open In Colab\"/></a>"
      ]
    },
    {
      "cell_type": "markdown",
      "source": [
        "# TIC-TAC-TOE Game using PYTHON 3 :)"
      ],
      "metadata": {
        "id": "A2EnsDJuCKyt"
      }
    },
    {
      "cell_type": "code",
      "source": [
        "from IPython.display import clear_output"
      ],
      "metadata": {
        "id": "bN2cOfGDD7ak"
      },
      "execution_count": null,
      "outputs": []
    },
    {
      "cell_type": "code",
      "source": [
        "# Welcome message\n",
        "def welcome():\n",
        "    print('Welcome to the TIC-TAC-TOE Game !')\n",
        "    print('                                          ')\n",
        "    print('Hi :)  Lets begin the play !')"
      ],
      "metadata": {
        "id": "zjYFZvZWEABk"
      },
      "execution_count": null,
      "outputs": []
    },
    {
      "cell_type": "code",
      "source": [
        "welcome()"
      ],
      "metadata": {
        "colab": {
          "base_uri": "https://localhost:8080/"
        },
        "id": "ay-K0KdzEESs",
        "outputId": "7556d374-591c-4acf-c30e-2bc34846c9ab"
      },
      "execution_count": null,
      "outputs": [
        {
          "output_type": "stream",
          "name": "stdout",
          "text": [
            "Welcome to the TIC-TAC-TOE Game !\n",
            "                                          \n",
            "Hi :)  Lets begin the play !\n"
          ]
        }
      ]
    },
    {
      "cell_type": "code",
      "source": [
        "# Function to display the initial game board\n",
        "def display_board(board):\n",
        "    print('   '+'|'+'   '+'|')\n",
        "    print(board[1]+'|'+board[2]+'|'+board[3])\n",
        "    print('   '+'|'+'   '+'|')\n",
        "    print('------------')\n",
        "    print('   '+'|'+'   '+'|')\n",
        "    print(board[4]+'|'+board[5]+'|'+board[6])\n",
        "    print('   '+'|'+'   '+'|')\n",
        "    print('------------')\n",
        "    print('   '+'|'+'   '+'|')\n",
        "    print(board[7]+'|'+board[8]+'|'+board[9])\n",
        "    print('   '+'|'+'   '+'|')"
      ],
      "metadata": {
        "id": "j0SR9_m1EFWs"
      },
      "execution_count": null,
      "outputs": []
    },
    {
      "cell_type": "code",
      "source": [
        "# Initial board with position numbers for reference\n",
        "board=['#',' 1 ',' 2 ',' 3 ',' 4 ',' 5 ',' 6 ',' 7 ',' 8 ',' 9 ']\n",
        "display_board(board)"
      ],
      "metadata": {
        "colab": {
          "base_uri": "https://localhost:8080/"
        },
        "id": "PK8XC-IUEL_k",
        "outputId": "367f435a-436f-400e-cd8f-6b260c4b601a"
      },
      "execution_count": null,
      "outputs": [
        {
          "output_type": "stream",
          "name": "stdout",
          "text": [
            "   |   |\n",
            " 1 | 2 | 3 \n",
            "   |   |\n",
            "------------\n",
            "   |   |\n",
            " 4 | 5 | 6 \n",
            "   |   |\n",
            "------------\n",
            "   |   |\n",
            " 7 | 8 | 9 \n",
            "   |   |\n"
          ]
        }
      ]
    },
    {
      "cell_type": "code",
      "source": [
        " # Input(\"Choose from 'X' or 'O'\")\n",
        "def player_input():\n",
        "    global choice\n",
        "    choice='Q'\n",
        "    while choice not in ['X','O']:\n",
        "\n",
        "        choice=input(\"Player-1 :Choose from 'X' or 'O':\").upper()\n",
        "\n",
        "\n",
        "        if choice not in ['X','O']:\n",
        "            clear_output()\n",
        "            print(\"Invalid Choice :( \")\n",
        "        else:\n",
        "\n",
        "            if choice == 'X':\n",
        "                return ('X', 'O')\n",
        "            else:\n",
        "                return ('O', 'X')"
      ],
      "metadata": {
        "id": "K4tWQPmdEOB0"
      },
      "execution_count": null,
      "outputs": []
    },
    {
      "cell_type": "code",
      "source": [
        "player_input()"
      ],
      "metadata": {
        "colab": {
          "base_uri": "https://localhost:8080/"
        },
        "id": "jW9XKu98ESCs",
        "outputId": "a272b5b9-032c-4a10-b45e-14a32849d7c0"
      },
      "execution_count": null,
      "outputs": [
        {
          "name": "stdout",
          "output_type": "stream",
          "text": [
            "Player-1 :Choose from 'X' or 'O':O\n"
          ]
        },
        {
          "output_type": "execute_result",
          "data": {
            "text/plain": [
              "('O', 'X')"
            ]
          },
          "metadata": {},
          "execution_count": 32
        }
      ]
    },
    {
      "cell_type": "code",
      "source": [
        "# Function to display the updated game board\n",
        "def display_new_board(new_board):\n",
        "    print('   '+'|'+'   '+'|')\n",
        "    print(' '+new_board[1]+' '+'|'+' '+new_board[2]+' '+'|'+new_board[3])\n",
        "    print('   '+'|'+'   '+'|')\n",
        "    print('------------')\n",
        "    print('   '+'|'+'   '+'|')\n",
        "    print(' '+new_board[4]+' '+'|'+' '+new_board[5]+' '+'|'+new_board[6])\n",
        "    print('   '+'|'+'   '+'|')\n",
        "    print('------------')\n",
        "    print('   '+'|'+'   '+'|')\n",
        "    print(' '+new_board[7]+' '+'|'+' '+new_board[8]+' '+'|'+new_board[9])\n",
        "    print('   '+'|'+'   '+'|')"
      ],
      "metadata": {
        "id": "GS8YoQO8EXAM"
      },
      "execution_count": null,
      "outputs": []
    },
    {
      "cell_type": "code",
      "source": [
        "# Create a fresh empty board\n",
        "new_board=['#',' ',' ',' ',' ',' ',' ',' ',' ',' ']\n",
        "display_new_board(new_board)"
      ],
      "metadata": {
        "colab": {
          "base_uri": "https://localhost:8080/"
        },
        "id": "Z8LVPfU4EblV",
        "outputId": "cd0c8a42-355b-4c31-f138-cee8500f378d"
      },
      "execution_count": null,
      "outputs": [
        {
          "output_type": "stream",
          "name": "stdout",
          "text": [
            "   |   |\n",
            "   |   | \n",
            "   |   |\n",
            "------------\n",
            "   |   |\n",
            "   |   | \n",
            "   |   |\n",
            "------------\n",
            "   |   |\n",
            "   |   | \n",
            "   |   |\n"
          ]
        }
      ]
    },
    {
      "cell_type": "code",
      "source": [
        "# Function to place a marker ('X' or 'O') on the board\n",
        "def place_marker(choice,new_board,position):\n",
        "    new_board[position]=choice"
      ],
      "metadata": {
        "id": "XfV0DFYQEf1k"
      },
      "execution_count": null,
      "outputs": []
    },
    {
      "cell_type": "code",
      "source": [
        "place_marker('X',new_board,2)\n",
        "display_new_board(new_board)"
      ],
      "metadata": {
        "colab": {
          "base_uri": "https://localhost:8080/"
        },
        "id": "GC5nCIfHEhxs",
        "outputId": "31581412-8967-48b6-d693-7959d08e9a84"
      },
      "execution_count": null,
      "outputs": [
        {
          "output_type": "stream",
          "name": "stdout",
          "text": [
            "   |   |\n",
            "   | X | \n",
            "   |   |\n",
            "------------\n",
            "   |   |\n",
            "   |   | \n",
            "   |   |\n",
            "------------\n",
            "   |   |\n",
            "   |   | \n",
            "   |   |\n"
          ]
        }
      ]
    },
    {
      "cell_type": "code",
      "source": [
        "# Function to check if a player has won the game\n",
        "def win_check(new_board,choice):\n",
        "    if (new_board[1]==choice and new_board[2]==choice and new_board[3]==choice)or(new_board[4]==choice and new_board[5]==choice and new_board[6]==choice)or(new_board[7]==choice and new_board[8]==choice and new_board[9]==choice)or(new_board[7]==choice and new_board[4]==choice and new_board[1]==choice)or(new_board[8]==choice and new_board[5]==choice and new_board[2]==choice)or(new_board[9]==choice and new_board[6]==choice and new_board[3]==choice)or(new_board[7]==choice and new_board[5]==choice and new_board[3]==choice)or(new_board[9]==choice and new_board[5]==choice and new_board[1]==choice):\n",
        "            return True\n",
        "    else:\n",
        "            return False"
      ],
      "metadata": {
        "id": "jYVgDZK7EjyU"
      },
      "execution_count": null,
      "outputs": []
    },
    {
      "cell_type": "code",
      "source": [
        "# Function to randomly decide which player goes first\n",
        "import random\n",
        "\n",
        "def choose_first():\n",
        "    if random.randint(0, 1) == 0:\n",
        "        return 'Player 2'\n",
        "    else:\n",
        "        return 'Player 1'"
      ],
      "metadata": {
        "id": "o5U5nB9FEli0"
      },
      "execution_count": null,
      "outputs": []
    },
    {
      "cell_type": "code",
      "source": [
        "# Function to check if a position on the board is available\n",
        "def space_check(new_board, position):\n",
        "\n",
        "    return new_board[position] == ' '"
      ],
      "metadata": {
        "id": "jPKiX1G1EnLj"
      },
      "execution_count": null,
      "outputs": []
    },
    {
      "cell_type": "code",
      "source": [
        "# Function to check if the board is full\n",
        "def full_board_check(new_board):\n",
        "    for i in range(1,10):\n",
        "        if space_check(new_board, i):\n",
        "            return False\n",
        "    return True"
      ],
      "metadata": {
        "id": "e3hykvlCEo8F"
      },
      "execution_count": null,
      "outputs": []
    },
    {
      "cell_type": "code",
      "source": [
        "# Function to get the player's next move\n",
        "def player_choice(new_board):\n",
        "    position = 0\n",
        "\n",
        "    while position not in [1,2,3,4,5,6,7,8,9] or not space_check(new_board, position):\n",
        "        position = int(input('Choose your next position: (1-9) '))\n",
        "\n",
        "    return position"
      ],
      "metadata": {
        "id": "E-mgJi1IEqct"
      },
      "execution_count": null,
      "outputs": []
    },
    {
      "cell_type": "code",
      "source": [
        "# Function to ask if players want to replay\n",
        "def replay():\n",
        "\n",
        "    return input('Do you want to play again? Enter Yes or No: ').lower().startswith('y')"
      ],
      "metadata": {
        "id": "i7UqOoW4EsTM"
      },
      "execution_count": null,
      "outputs": []
    },
    {
      "cell_type": "code",
      "source": [
        "welcome()\n",
        "print('                                              ')\n",
        "print('The positions look like this: ')\n",
        "print('                                              ')\n",
        "display_board(board)\n",
        "\n",
        "while True:\n",
        "    # Reset the board\n",
        "    new_board=['#',' ',' ',' ',' ',' ',' ',' ',' ',' ']\n",
        "\n",
        "    player1_marker, player2_marker = player_input()\n",
        "    turn = choose_first()\n",
        "    print('                                                          ')\n",
        "    print(turn + ' will go first.')\n",
        "    play_game = input('Are you ready to play? Enter Yes or No.')\n",
        "\n",
        "    if play_game.lower()[0] == 'y':\n",
        "        game_on = True\n",
        "    else:\n",
        "        game_on = False\n",
        "\n",
        "    while game_on:\n",
        "        if turn == 'Player 1':\n",
        "            # Player1's turn.\n",
        "\n",
        "            display_new_board(new_board)\n",
        "            print('                                              ')\n",
        "            print(\"Player1's turn !\")\n",
        "            position = player_choice(new_board)\n",
        "            place_marker(player1_marker,new_board, position)\n",
        "\n",
        "            if win_check(new_board, player1_marker):\n",
        "                display_new_board(new_board)\n",
        "                print('Congratulations! You have won the game! :) ')\n",
        "                game_on = False\n",
        "            else:\n",
        "                if full_board_check(new_board):\n",
        "                    display_new_board(new_board)\n",
        "                    print('The game is a draw !')\n",
        "                    break\n",
        "                else:\n",
        "                    turn = 'Player 2'\n",
        "\n",
        "        else:\n",
        "            # Player2's turn.\n",
        "\n",
        "            display_new_board(new_board)\n",
        "            print('                                              ')\n",
        "            print(\"Player2's turn !\")\n",
        "            position = player_choice(new_board)\n",
        "            place_marker(player2_marker, new_board,  position)\n",
        "\n",
        "            if win_check(new_board, player2_marker):\n",
        "                display_new_board(new_board)\n",
        "                print('Player 2 has won!')\n",
        "                game_on = False\n",
        "            else:\n",
        "                if full_board_check(new_board):\n",
        "                    display_new_board(new_board)\n",
        "                    print('The game is a draw!')\n",
        "                    break\n",
        "                else:\n",
        "                    turn = 'Player 1'\n",
        "\n",
        "    if not replay():\n",
        "        break"
      ],
      "metadata": {
        "colab": {
          "base_uri": "https://localhost:8080/"
        },
        "id": "ZQeyVJlOEuW8",
        "outputId": "b343682c-f91f-44ca-cbb4-949487a3e050"
      },
      "execution_count": null,
      "outputs": [
        {
          "name": "stdout",
          "output_type": "stream",
          "text": [
            "Welcome to the TIC-TAC-TOE Game !\n",
            "                                          \n",
            "Hi :)  Lets begin the play !\n",
            "                                              \n",
            "The positions look like this: \n",
            "                                              \n",
            "   |   |\n",
            " 1 | 2 | 3 \n",
            "   |   |\n",
            "------------\n",
            "   |   |\n",
            " 4 | 5 | 6 \n",
            "   |   |\n",
            "------------\n",
            "   |   |\n",
            " 7 | 8 | 9 \n",
            "   |   |\n",
            "Player-1 :Choose from 'X' or 'O':O\n",
            "                                                          \n",
            "Player 2 will go first.\n",
            "Are you ready to play? Enter Yes or No.Yes\n",
            "   |   |\n",
            "   |   | \n",
            "   |   |\n",
            "------------\n",
            "   |   |\n",
            "   |   | \n",
            "   |   |\n",
            "------------\n",
            "   |   |\n",
            "   |   | \n",
            "   |   |\n",
            "                                              \n",
            "Player2's turn !\n",
            "Choose your next position: (1-9) 1\n",
            "   |   |\n",
            " X |   | \n",
            "   |   |\n",
            "------------\n",
            "   |   |\n",
            "   |   | \n",
            "   |   |\n",
            "------------\n",
            "   |   |\n",
            "   |   | \n",
            "   |   |\n",
            "                                              \n",
            "Player1's turn !\n",
            "Choose your next position: (1-9) 3\n",
            "   |   |\n",
            " X |   |O\n",
            "   |   |\n",
            "------------\n",
            "   |   |\n",
            "   |   | \n",
            "   |   |\n",
            "------------\n",
            "   |   |\n",
            "   |   | \n",
            "   |   |\n",
            "                                              \n",
            "Player2's turn !\n",
            "Choose your next position: (1-9) 6\n",
            "   |   |\n",
            " X |   |O\n",
            "   |   |\n",
            "------------\n",
            "   |   |\n",
            "   |   |X\n",
            "   |   |\n",
            "------------\n",
            "   |   |\n",
            "   |   | \n",
            "   |   |\n",
            "                                              \n",
            "Player1's turn !\n",
            "Choose your next position: (1-9) 7\n",
            "   |   |\n",
            " X |   |O\n",
            "   |   |\n",
            "------------\n",
            "   |   |\n",
            "   |   |X\n",
            "   |   |\n",
            "------------\n",
            "   |   |\n",
            " O |   | \n",
            "   |   |\n",
            "                                              \n",
            "Player2's turn !\n",
            "Choose your next position: (1-9) 4\n",
            "   |   |\n",
            " X |   |O\n",
            "   |   |\n",
            "------------\n",
            "   |   |\n",
            " X |   |X\n",
            "   |   |\n",
            "------------\n",
            "   |   |\n",
            " O |   | \n",
            "   |   |\n",
            "                                              \n",
            "Player1's turn !\n",
            "Choose your next position: (1-9) 5\n",
            "   |   |\n",
            " X |   |O\n",
            "   |   |\n",
            "------------\n",
            "   |   |\n",
            " X | O |X\n",
            "   |   |\n",
            "------------\n",
            "   |   |\n",
            " O |   | \n",
            "   |   |\n",
            "Congratulations! You have won the game! :) \n",
            "Do you want to play again? Enter Yes or No: No\n"
          ]
        }
      ]
    }
  ]
}